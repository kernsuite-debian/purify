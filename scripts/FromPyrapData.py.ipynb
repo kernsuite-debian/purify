{
 "cells": [
  {
   "cell_type": "code",
   "execution_count": 2,
   "metadata": {
    "collapsed": false
   },
   "outputs": [
    {
     "name": "stdout",
     "output_type": "stream",
     "text": [
      "Successful readonly open of default-locked table data/at166B.3C129.c0.ms: 23 columns, 167778 rows\n",
      "Successful readonly open of default-locked table data/at166B.3C129.c0.ms: 23 columns, 167778 rows\n",
      "Successful readonly open of default-locked table data/at166B.3C129.c0.ms::SPECTRAL_WINDOW: 15 columns, 1 rows\n",
      "Successful readonly open of default-locked table data/at166B.3C129.c0.ms::DATA_DESCRIPTION: 3 columns, 1 rows\n"
     ]
    }
   ],
   "source": [
    "from purify.pyrap import purify_measurement_set\n",
    "\n",
    "image = purify_measurement_set(\n",
    "    'data/at166B.3C129.c0.ms',\n",
    "    imagename = 'outputimg',\n",
    "    ignoreW = True,\n",
    "    max_iter = 10,\n",
    "    nlevels = 5,\n",
    "    wavelets = ['DB%i' % i for i in range(1, 10)],\n",
    "    imsize = (256, 256),\n",
    "    resolution = 0.3 # arcsec per pixel\n",
    ")\n"
   ]
  }
 ],
 "metadata": {
  "kernelspec": {
   "display_name": "Python 2",
   "language": "python",
   "name": "python2"
  },
  "language_info": {
   "codemirror_mode": {
    "name": "ipython",
    "version": 2
   },
   "file_extension": ".py",
   "mimetype": "text/x-python",
   "name": "python",
   "nbconvert_exporter": "python",
   "pygments_lexer": "ipython2",
   "version": "2.7.9"
  }
 },
 "nbformat": 4,
 "nbformat_minor": 0
}
