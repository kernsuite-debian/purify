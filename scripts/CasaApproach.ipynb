{
 "cells": [
  {
   "cell_type": "code",
   "execution_count": null,
   "metadata": {
    "collapsed": true
   },
   "outputs": [],
   "source": [
    "# Importing purify register the CASA task\n",
    "import purify\n",
    "\n",
    "default('purify_image')\n",
    "vis = 'data/at166B.3C129.c0.ms',\n",
    "imagename = 'outputimg'\n",
    "ignoreW = True\n",
    "max_iter = 10\n",
    "nlevels = 5\n",
    "wavelets = ['DB%i' % i for i in range(1, 10)]\n",
    "resolution = 0.3 # arcsec per pixel\n",
    "imsize = 128, 128\n",
    "purify_image()"
   ]
  }
 ],
 "metadata": {
  "kernelspec": {
   "display_name": "Python 2",
   "language": "python",
   "name": "python2"
  },
  "language_info": {
   "codemirror_mode": {
    "name": "ipython",
    "version": 2
   },
   "file_extension": ".py",
   "mimetype": "text/x-python",
   "name": "python",
   "nbconvert_exporter": "python",
   "pygments_lexer": "ipython2",
   "version": "2.7.9"
  }
 },
 "nbformat": 4,
 "nbformat_minor": 0
}
